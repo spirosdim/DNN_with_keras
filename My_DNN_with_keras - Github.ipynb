{
 "cells": [
  {
   "cell_type": "markdown",
   "metadata": {},
   "source": [
    "## Importing libraries"
   ]
  },
  {
   "cell_type": "code",
   "execution_count": 1,
   "metadata": {},
   "outputs": [],
   "source": [
    "import numpy as np\n",
    "import pandas as pd\n",
    "import matplotlib.pyplot as plt\n",
    "import seaborn as sns\n",
    "%matplotlib inline"
   ]
  },
  {
   "cell_type": "markdown",
   "metadata": {},
   "source": [
    "### Read the data and take a glimpse of them"
   ]
  },
  {
   "cell_type": "code",
   "execution_count": 2,
   "metadata": {},
   "outputs": [],
   "source": [
    "train = pd.read_csv('train.csv')"
   ]
  },
  {
   "cell_type": "code",
   "execution_count": 3,
   "metadata": {},
   "outputs": [
    {
     "name": "stdout",
     "output_type": "stream",
     "text": [
      "size of the train data: (15120, 56)\n"
     ]
    }
   ],
   "source": [
    "print(\"size of the train data: {}\".format(train.shape))"
   ]
  },
  {
   "cell_type": "code",
   "execution_count": 4,
   "metadata": {},
   "outputs": [
    {
     "data": {
      "text/html": [
       "<div>\n",
       "<style scoped>\n",
       "    .dataframe tbody tr th:only-of-type {\n",
       "        vertical-align: middle;\n",
       "    }\n",
       "\n",
       "    .dataframe tbody tr th {\n",
       "        vertical-align: top;\n",
       "    }\n",
       "\n",
       "    .dataframe thead th {\n",
       "        text-align: right;\n",
       "    }\n",
       "</style>\n",
       "<table border=\"1\" class=\"dataframe\">\n",
       "  <thead>\n",
       "    <tr style=\"text-align: right;\">\n",
       "      <th></th>\n",
       "      <th>Id</th>\n",
       "      <th>Elevation</th>\n",
       "      <th>Aspect</th>\n",
       "      <th>Slope</th>\n",
       "      <th>Horizontal_Distance_To_Hydrology</th>\n",
       "      <th>Vertical_Distance_To_Hydrology</th>\n",
       "      <th>Horizontal_Distance_To_Roadways</th>\n",
       "      <th>Hillshade_9am</th>\n",
       "      <th>Hillshade_Noon</th>\n",
       "      <th>Hillshade_3pm</th>\n",
       "      <th>...</th>\n",
       "      <th>Soil_Type32</th>\n",
       "      <th>Soil_Type33</th>\n",
       "      <th>Soil_Type34</th>\n",
       "      <th>Soil_Type35</th>\n",
       "      <th>Soil_Type36</th>\n",
       "      <th>Soil_Type37</th>\n",
       "      <th>Soil_Type38</th>\n",
       "      <th>Soil_Type39</th>\n",
       "      <th>Soil_Type40</th>\n",
       "      <th>Cover_Type</th>\n",
       "    </tr>\n",
       "  </thead>\n",
       "  <tbody>\n",
       "    <tr>\n",
       "      <th>0</th>\n",
       "      <td>1</td>\n",
       "      <td>2596</td>\n",
       "      <td>51</td>\n",
       "      <td>3</td>\n",
       "      <td>258</td>\n",
       "      <td>0</td>\n",
       "      <td>510</td>\n",
       "      <td>221</td>\n",
       "      <td>232</td>\n",
       "      <td>148</td>\n",
       "      <td>...</td>\n",
       "      <td>0</td>\n",
       "      <td>0</td>\n",
       "      <td>0</td>\n",
       "      <td>0</td>\n",
       "      <td>0</td>\n",
       "      <td>0</td>\n",
       "      <td>0</td>\n",
       "      <td>0</td>\n",
       "      <td>0</td>\n",
       "      <td>5</td>\n",
       "    </tr>\n",
       "    <tr>\n",
       "      <th>1</th>\n",
       "      <td>2</td>\n",
       "      <td>2590</td>\n",
       "      <td>56</td>\n",
       "      <td>2</td>\n",
       "      <td>212</td>\n",
       "      <td>-6</td>\n",
       "      <td>390</td>\n",
       "      <td>220</td>\n",
       "      <td>235</td>\n",
       "      <td>151</td>\n",
       "      <td>...</td>\n",
       "      <td>0</td>\n",
       "      <td>0</td>\n",
       "      <td>0</td>\n",
       "      <td>0</td>\n",
       "      <td>0</td>\n",
       "      <td>0</td>\n",
       "      <td>0</td>\n",
       "      <td>0</td>\n",
       "      <td>0</td>\n",
       "      <td>5</td>\n",
       "    </tr>\n",
       "    <tr>\n",
       "      <th>2</th>\n",
       "      <td>3</td>\n",
       "      <td>2804</td>\n",
       "      <td>139</td>\n",
       "      <td>9</td>\n",
       "      <td>268</td>\n",
       "      <td>65</td>\n",
       "      <td>3180</td>\n",
       "      <td>234</td>\n",
       "      <td>238</td>\n",
       "      <td>135</td>\n",
       "      <td>...</td>\n",
       "      <td>0</td>\n",
       "      <td>0</td>\n",
       "      <td>0</td>\n",
       "      <td>0</td>\n",
       "      <td>0</td>\n",
       "      <td>0</td>\n",
       "      <td>0</td>\n",
       "      <td>0</td>\n",
       "      <td>0</td>\n",
       "      <td>2</td>\n",
       "    </tr>\n",
       "    <tr>\n",
       "      <th>3</th>\n",
       "      <td>4</td>\n",
       "      <td>2785</td>\n",
       "      <td>155</td>\n",
       "      <td>18</td>\n",
       "      <td>242</td>\n",
       "      <td>118</td>\n",
       "      <td>3090</td>\n",
       "      <td>238</td>\n",
       "      <td>238</td>\n",
       "      <td>122</td>\n",
       "      <td>...</td>\n",
       "      <td>0</td>\n",
       "      <td>0</td>\n",
       "      <td>0</td>\n",
       "      <td>0</td>\n",
       "      <td>0</td>\n",
       "      <td>0</td>\n",
       "      <td>0</td>\n",
       "      <td>0</td>\n",
       "      <td>0</td>\n",
       "      <td>2</td>\n",
       "    </tr>\n",
       "    <tr>\n",
       "      <th>4</th>\n",
       "      <td>5</td>\n",
       "      <td>2595</td>\n",
       "      <td>45</td>\n",
       "      <td>2</td>\n",
       "      <td>153</td>\n",
       "      <td>-1</td>\n",
       "      <td>391</td>\n",
       "      <td>220</td>\n",
       "      <td>234</td>\n",
       "      <td>150</td>\n",
       "      <td>...</td>\n",
       "      <td>0</td>\n",
       "      <td>0</td>\n",
       "      <td>0</td>\n",
       "      <td>0</td>\n",
       "      <td>0</td>\n",
       "      <td>0</td>\n",
       "      <td>0</td>\n",
       "      <td>0</td>\n",
       "      <td>0</td>\n",
       "      <td>5</td>\n",
       "    </tr>\n",
       "  </tbody>\n",
       "</table>\n",
       "<p>5 rows × 56 columns</p>\n",
       "</div>"
      ],
      "text/plain": [
       "   Id  Elevation  Aspect  Slope  Horizontal_Distance_To_Hydrology  \\\n",
       "0   1       2596      51      3                               258   \n",
       "1   2       2590      56      2                               212   \n",
       "2   3       2804     139      9                               268   \n",
       "3   4       2785     155     18                               242   \n",
       "4   5       2595      45      2                               153   \n",
       "\n",
       "   Vertical_Distance_To_Hydrology  Horizontal_Distance_To_Roadways  \\\n",
       "0                               0                              510   \n",
       "1                              -6                              390   \n",
       "2                              65                             3180   \n",
       "3                             118                             3090   \n",
       "4                              -1                              391   \n",
       "\n",
       "   Hillshade_9am  Hillshade_Noon  Hillshade_3pm     ...      Soil_Type32  \\\n",
       "0            221             232            148     ...                0   \n",
       "1            220             235            151     ...                0   \n",
       "2            234             238            135     ...                0   \n",
       "3            238             238            122     ...                0   \n",
       "4            220             234            150     ...                0   \n",
       "\n",
       "   Soil_Type33  Soil_Type34  Soil_Type35  Soil_Type36  Soil_Type37  \\\n",
       "0            0            0            0            0            0   \n",
       "1            0            0            0            0            0   \n",
       "2            0            0            0            0            0   \n",
       "3            0            0            0            0            0   \n",
       "4            0            0            0            0            0   \n",
       "\n",
       "   Soil_Type38  Soil_Type39  Soil_Type40  Cover_Type  \n",
       "0            0            0            0           5  \n",
       "1            0            0            0           5  \n",
       "2            0            0            0           2  \n",
       "3            0            0            0           2  \n",
       "4            0            0            0           5  \n",
       "\n",
       "[5 rows x 56 columns]"
      ]
     },
     "execution_count": 4,
     "metadata": {},
     "output_type": "execute_result"
    }
   ],
   "source": [
    "train.head()"
   ]
  },
  {
   "cell_type": "code",
   "execution_count": 5,
   "metadata": {},
   "outputs": [
    {
     "name": "stdout",
     "output_type": "stream",
     "text": [
      "<class 'pandas.core.frame.DataFrame'>\n",
      "RangeIndex: 15120 entries, 0 to 15119\n",
      "Data columns (total 56 columns):\n",
      "Id                                    15120 non-null int64\n",
      "Elevation                             15120 non-null int64\n",
      "Aspect                                15120 non-null int64\n",
      "Slope                                 15120 non-null int64\n",
      "Horizontal_Distance_To_Hydrology      15120 non-null int64\n",
      "Vertical_Distance_To_Hydrology        15120 non-null int64\n",
      "Horizontal_Distance_To_Roadways       15120 non-null int64\n",
      "Hillshade_9am                         15120 non-null int64\n",
      "Hillshade_Noon                        15120 non-null int64\n",
      "Hillshade_3pm                         15120 non-null int64\n",
      "Horizontal_Distance_To_Fire_Points    15120 non-null int64\n",
      "Wilderness_Area1                      15120 non-null int64\n",
      "Wilderness_Area2                      15120 non-null int64\n",
      "Wilderness_Area3                      15120 non-null int64\n",
      "Wilderness_Area4                      15120 non-null int64\n",
      "Soil_Type1                            15120 non-null int64\n",
      "Soil_Type2                            15120 non-null int64\n",
      "Soil_Type3                            15120 non-null int64\n",
      "Soil_Type4                            15120 non-null int64\n",
      "Soil_Type5                            15120 non-null int64\n",
      "Soil_Type6                            15120 non-null int64\n",
      "Soil_Type7                            15120 non-null int64\n",
      "Soil_Type8                            15120 non-null int64\n",
      "Soil_Type9                            15120 non-null int64\n",
      "Soil_Type10                           15120 non-null int64\n",
      "Soil_Type11                           15120 non-null int64\n",
      "Soil_Type12                           15120 non-null int64\n",
      "Soil_Type13                           15120 non-null int64\n",
      "Soil_Type14                           15120 non-null int64\n",
      "Soil_Type15                           15120 non-null int64\n",
      "Soil_Type16                           15120 non-null int64\n",
      "Soil_Type17                           15120 non-null int64\n",
      "Soil_Type18                           15120 non-null int64\n",
      "Soil_Type19                           15120 non-null int64\n",
      "Soil_Type20                           15120 non-null int64\n",
      "Soil_Type21                           15120 non-null int64\n",
      "Soil_Type22                           15120 non-null int64\n",
      "Soil_Type23                           15120 non-null int64\n",
      "Soil_Type24                           15120 non-null int64\n",
      "Soil_Type25                           15120 non-null int64\n",
      "Soil_Type26                           15120 non-null int64\n",
      "Soil_Type27                           15120 non-null int64\n",
      "Soil_Type28                           15120 non-null int64\n",
      "Soil_Type29                           15120 non-null int64\n",
      "Soil_Type30                           15120 non-null int64\n",
      "Soil_Type31                           15120 non-null int64\n",
      "Soil_Type32                           15120 non-null int64\n",
      "Soil_Type33                           15120 non-null int64\n",
      "Soil_Type34                           15120 non-null int64\n",
      "Soil_Type35                           15120 non-null int64\n",
      "Soil_Type36                           15120 non-null int64\n",
      "Soil_Type37                           15120 non-null int64\n",
      "Soil_Type38                           15120 non-null int64\n",
      "Soil_Type39                           15120 non-null int64\n",
      "Soil_Type40                           15120 non-null int64\n",
      "Cover_Type                            15120 non-null int64\n",
      "dtypes: int64(56)\n",
      "memory usage: 6.5 MB\n"
     ]
    }
   ],
   "source": [
    "train.info()"
   ]
  },
  {
   "cell_type": "code",
   "execution_count": 6,
   "metadata": {},
   "outputs": [
    {
     "data": {
      "text/plain": [
       "7    2160\n",
       "6    2160\n",
       "5    2160\n",
       "4    2160\n",
       "3    2160\n",
       "2    2160\n",
       "1    2160\n",
       "Name: Cover_Type, dtype: int64"
      ]
     },
     "execution_count": 6,
     "metadata": {},
     "output_type": "execute_result"
    }
   ],
   "source": [
    "train['Cover_Type'].value_counts()"
   ]
  },
  {
   "cell_type": "markdown",
   "metadata": {},
   "source": [
    "#### Note: Balanced data"
   ]
  },
  {
   "cell_type": "code",
   "execution_count": 7,
   "metadata": {},
   "outputs": [],
   "source": [
    "X = train.drop(['Cover_Type'], axis = 1)\n",
    "Y = train['Cover_Type']"
   ]
  },
  {
   "cell_type": "markdown",
   "metadata": {},
   "source": [
    "#### One hot encoding (with pandas)"
   ]
  },
  {
   "cell_type": "code",
   "execution_count": 8,
   "metadata": {},
   "outputs": [],
   "source": [
    "y = pd.get_dummies(Y)"
   ]
  },
  {
   "cell_type": "markdown",
   "metadata": {},
   "source": [
    "#### Splitting the training data "
   ]
  },
  {
   "cell_type": "code",
   "execution_count": 9,
   "metadata": {},
   "outputs": [],
   "source": [
    "from sklearn.model_selection import train_test_split\n",
    "x_train, x_test, y_train, y_test = train_test_split(X,y,test_size = .3)"
   ]
  },
  {
   "cell_type": "markdown",
   "metadata": {},
   "source": [
    "### Feature Scaling\n",
    "transform the data such that its distribution will have a mean value 0 and standard deviation of 1"
   ]
  },
  {
   "cell_type": "code",
   "execution_count": 10,
   "metadata": {},
   "outputs": [],
   "source": [
    "from sklearn.preprocessing import StandardScaler\n",
    "sc = StandardScaler()\n",
    "x_train = sc.fit_transform(x_train)\n",
    "x_test = sc.transform(x_test)"
   ]
  },
  {
   "cell_type": "markdown",
   "metadata": {},
   "source": [
    "# Building the Deep Neural Network\n",
    "- 2 hidden layers\n",
    "- 54 -> 1024 -> 256 -> 7"
   ]
  },
  {
   "cell_type": "markdown",
   "metadata": {},
   "source": [
    "### weight initialization \n",
    "- he_normal \n",
    "<br> It draws samples from a truncated normal distribution centered on 0 with stddev = sqrt(2 / fan_in) where fan_in is the number of input units in the weight tensor.\n",
    "<br> References: Kaiming He\n",
    "https://arxiv.org/pdf/1502.01852.pdf"
   ]
  },
  {
   "cell_type": "markdown",
   "metadata": {},
   "source": [
    "### Activation functions\n",
    "\n",
    "- $RELU(Z) = max(0, Z)$\n",
    "\n",
    "\n",
    "- $SOFTMAX(Z) = 1/(1+e^Z)$"
   ]
  },
  {
   "cell_type": "markdown",
   "metadata": {},
   "source": [
    "### Optimizer\n",
    "Adam\n",
    "- learning rate: lr=0.01  \n",
    "- beta_1=0.9, beta_2=0.999  (paper's default)\n",
    "- epsilon= 1e-08 (paper's default)\n",
    "- learning rate decay: decay=0.1  \n",
    "- batch size: 256\n",
    "- epochs=100\n",
    "- loss function: loss=categorical_crossentropy \n",
    "\n",
    "\n",
    "<br> References:  \n",
    "- https://medium.com/@nishantnikhil/adam-optimizer-notes-ddac4fd7218\n",
    "- the paper: https://arxiv.org/pdf/1502.03167.pdf"
   ]
  },
  {
   "cell_type": "markdown",
   "metadata": {},
   "source": [
    "### Batch normalization\n",
    "Used Batch normalization to normalize the input layer by adjusting and scaling the activations.\n",
    "\n",
    "<br> References:  \n",
    "- Andrew Ng's Coursera Course: Improving Deep Neural Networks \n",
    "- the paper: https://arxiv.org/pdf/1412.6980.pdf"
   ]
  },
  {
   "cell_type": "markdown",
   "metadata": {},
   "source": [
    "### Weight Regularization: L2\n",
    "Used Weight Regularization L2 to prevent overfitting"
   ]
  },
  {
   "cell_type": "code",
   "execution_count": 11,
   "metadata": {},
   "outputs": [
    {
     "name": "stderr",
     "output_type": "stream",
     "text": [
      "C:\\Users\\spiro\\Anaconda3\\lib\\site-packages\\h5py\\__init__.py:36: FutureWarning: Conversion of the second argument of issubdtype from `float` to `np.floating` is deprecated. In future, it will be treated as `np.float64 == np.dtype(float).type`.\n",
      "  from ._conv import register_converters as _register_converters\n",
      "Using TensorFlow backend.\n"
     ]
    }
   ],
   "source": [
    "from keras.models import Sequential\n",
    "from keras.layers import Dense\n",
    "from keras.optimizers import Adam\n",
    "from keras.layers import BatchNormalization"
   ]
  },
  {
   "cell_type": "code",
   "execution_count": 12,
   "metadata": {},
   "outputs": [],
   "source": [
    "features_num = x_train.shape[1]"
   ]
  },
  {
   "cell_type": "code",
   "execution_count": 13,
   "metadata": {},
   "outputs": [],
   "source": [
    "model = Sequential()\n",
    "model.add(Dense(1024, input_shape=(features_num,),kernel_regularizer='l2', \n",
    "                kernel_initializer='he_normal', activation='relu'))\n",
    "model.add(BatchNormalization())\n",
    "model.add(Dense(256,kernel_regularizer='l2', kernel_initializer='he_normal', \n",
    "                activation='relu'))\n",
    "model.add(BatchNormalization())\n",
    "model.add(Dense(7, activation='softmax'))\n",
    "model.compile(Adam(lr=0.01,epsilon= 1e-08, decay=0.1),\n",
    "              loss='categorical_crossentropy', \n",
    "              metrics=['accuracy'])"
   ]
  },
  {
   "cell_type": "code",
   "execution_count": 14,
   "metadata": {},
   "outputs": [
    {
     "name": "stdout",
     "output_type": "stream",
     "text": [
      "Train on 10584 samples, validate on 4536 samples\n",
      "Epoch 1/100\n",
      " - 5s - loss: 13.5907 - acc: 0.6436 - val_loss: 6.8843 - val_acc: 0.5888\n",
      "Epoch 2/100\n",
      " - 0s - loss: 4.9825 - acc: 0.7140 - val_loss: 4.3218 - val_acc: 0.4599\n",
      "Epoch 3/100\n",
      " - 0s - loss: 3.2512 - acc: 0.7296 - val_loss: 3.2573 - val_acc: 0.5064\n",
      "Epoch 4/100\n",
      " - 0s - loss: 2.4710 - acc: 0.7601 - val_loss: 2.6918 - val_acc: 0.5679\n",
      "Epoch 5/100\n",
      " - 0s - loss: 2.0266 - acc: 0.7697 - val_loss: 2.3461 - val_acc: 0.5553\n",
      "Epoch 6/100\n",
      " - 0s - loss: 1.7275 - acc: 0.7831 - val_loss: 2.0666 - val_acc: 0.5902\n",
      "Epoch 7/100\n",
      " - 0s - loss: 1.5110 - acc: 0.7971 - val_loss: 1.8810 - val_acc: 0.6030\n",
      "Epoch 8/100\n",
      " - 0s - loss: 1.3710 - acc: 0.8011 - val_loss: 1.6407 - val_acc: 0.6620\n",
      "Epoch 9/100\n",
      " - 0s - loss: 1.2485 - acc: 0.8043 - val_loss: 1.4905 - val_acc: 0.6803\n",
      "Epoch 10/100\n",
      " - 0s - loss: 1.1490 - acc: 0.8153 - val_loss: 1.3426 - val_acc: 0.7253\n",
      "Epoch 11/100\n",
      " - 0s - loss: 1.0637 - acc: 0.8193 - val_loss: 1.2664 - val_acc: 0.7423\n",
      "Epoch 12/100\n",
      " - 0s - loss: 0.9952 - acc: 0.8263 - val_loss: 1.1792 - val_acc: 0.7551\n",
      "Epoch 13/100\n",
      " - 0s - loss: 0.9394 - acc: 0.8330 - val_loss: 1.1129 - val_acc: 0.7577\n",
      "Epoch 14/100\n",
      " - 0s - loss: 0.8882 - acc: 0.8385 - val_loss: 1.0565 - val_acc: 0.7725\n",
      "Epoch 15/100\n",
      " - 0s - loss: 0.8403 - acc: 0.8481 - val_loss: 0.9987 - val_acc: 0.7870\n",
      "Epoch 16/100\n",
      " - 0s - loss: 0.8054 - acc: 0.8475 - val_loss: 0.9591 - val_acc: 0.7886\n",
      "Epoch 17/100\n",
      " - 0s - loss: 0.7734 - acc: 0.8504 - val_loss: 0.9222 - val_acc: 0.7912\n",
      "Epoch 18/100\n",
      " - 0s - loss: 0.7329 - acc: 0.8604 - val_loss: 0.9166 - val_acc: 0.7864\n",
      "Epoch 19/100\n",
      " - 0s - loss: 0.7155 - acc: 0.8623 - val_loss: 0.8909 - val_acc: 0.7877\n",
      "Epoch 20/100\n",
      " - 0s - loss: 0.6813 - acc: 0.8681 - val_loss: 0.8524 - val_acc: 0.8003\n",
      "Epoch 21/100\n",
      " - 0s - loss: 0.6637 - acc: 0.8662 - val_loss: 0.8209 - val_acc: 0.8056\n",
      "Epoch 22/100\n",
      " - 0s - loss: 0.6368 - acc: 0.8751 - val_loss: 0.8082 - val_acc: 0.8122\n",
      "Epoch 23/100\n",
      " - 0s - loss: 0.6197 - acc: 0.8769 - val_loss: 0.8085 - val_acc: 0.8025\n",
      "Epoch 24/100\n",
      " - 0s - loss: 0.6051 - acc: 0.8778 - val_loss: 0.7951 - val_acc: 0.8051\n",
      "Epoch 25/100\n",
      " - 0s - loss: 0.5843 - acc: 0.8865 - val_loss: 0.7676 - val_acc: 0.8139\n",
      "Epoch 26/100\n",
      " - 0s - loss: 0.5706 - acc: 0.8890 - val_loss: 0.7587 - val_acc: 0.8164\n",
      "Epoch 27/100\n",
      " - 0s - loss: 0.5544 - acc: 0.8889 - val_loss: 0.7464 - val_acc: 0.8181\n",
      "Epoch 28/100\n",
      " - 0s - loss: 0.5442 - acc: 0.8948 - val_loss: 0.7378 - val_acc: 0.8177\n",
      "Epoch 29/100\n",
      " - 0s - loss: 0.5293 - acc: 0.8977 - val_loss: 0.7385 - val_acc: 0.8170\n",
      "Epoch 30/100\n",
      " - 0s - loss: 0.5202 - acc: 0.9004 - val_loss: 0.7120 - val_acc: 0.8241\n",
      "Epoch 31/100\n",
      " - 0s - loss: 0.5074 - acc: 0.9012 - val_loss: 0.7110 - val_acc: 0.8252\n",
      "Epoch 32/100\n",
      " - 0s - loss: 0.4968 - acc: 0.9042 - val_loss: 0.7253 - val_acc: 0.8093\n",
      "Epoch 33/100\n",
      " - 0s - loss: 0.4876 - acc: 0.9100 - val_loss: 0.7057 - val_acc: 0.8263\n",
      "Epoch 34/100\n",
      " - 0s - loss: 0.4771 - acc: 0.9102 - val_loss: 0.6909 - val_acc: 0.8291\n",
      "Epoch 35/100\n",
      " - 0s - loss: 0.4673 - acc: 0.9159 - val_loss: 0.7004 - val_acc: 0.8225\n",
      "Epoch 36/100\n",
      " - 0s - loss: 0.4593 - acc: 0.9138 - val_loss: 0.6882 - val_acc: 0.8250\n",
      "Epoch 37/100\n",
      " - 0s - loss: 0.4564 - acc: 0.9133 - val_loss: 0.6899 - val_acc: 0.8285\n",
      "Epoch 38/100\n",
      " - 0s - loss: 0.4391 - acc: 0.9241 - val_loss: 0.6795 - val_acc: 0.8294\n",
      "Epoch 39/100\n",
      " - 0s - loss: 0.4324 - acc: 0.9223 - val_loss: 0.6786 - val_acc: 0.8294\n",
      "Epoch 40/100\n",
      " - 0s - loss: 0.4302 - acc: 0.9261 - val_loss: 0.6657 - val_acc: 0.8325\n",
      "Epoch 41/100\n",
      " - 0s - loss: 0.4171 - acc: 0.9268 - val_loss: 0.6722 - val_acc: 0.8285\n",
      "Epoch 42/100\n",
      " - 0s - loss: 0.4131 - acc: 0.9326 - val_loss: 0.6730 - val_acc: 0.8320\n",
      "Epoch 43/100\n",
      " - 0s - loss: 0.4065 - acc: 0.9332 - val_loss: 0.6539 - val_acc: 0.8377\n",
      "Epoch 44/100\n",
      " - 0s - loss: 0.4012 - acc: 0.9339 - val_loss: 0.6825 - val_acc: 0.8223\n",
      "Epoch 45/100\n",
      " - 0s - loss: 0.3971 - acc: 0.9338 - val_loss: 0.6611 - val_acc: 0.8338\n",
      "Epoch 46/100\n",
      " - 0s - loss: 0.3916 - acc: 0.9352 - val_loss: 0.6702 - val_acc: 0.8325\n",
      "Epoch 47/100\n",
      " - 0s - loss: 0.3853 - acc: 0.9371 - val_loss: 0.6582 - val_acc: 0.8371\n",
      "Epoch 48/100\n",
      " - 0s - loss: 0.3774 - acc: 0.9380 - val_loss: 0.6577 - val_acc: 0.8307\n",
      "Epoch 49/100\n",
      " - 0s - loss: 0.3741 - acc: 0.9408 - val_loss: 0.6609 - val_acc: 0.8329\n",
      "Epoch 50/100\n",
      " - 0s - loss: 0.3648 - acc: 0.9439 - val_loss: 0.6567 - val_acc: 0.8331\n",
      "Epoch 51/100\n",
      " - 0s - loss: 0.3627 - acc: 0.9440 - val_loss: 0.6587 - val_acc: 0.8307\n",
      "Epoch 52/100\n",
      " - 0s - loss: 0.3536 - acc: 0.9478 - val_loss: 0.6532 - val_acc: 0.8375\n",
      "Epoch 53/100\n",
      " - 0s - loss: 0.3528 - acc: 0.9477 - val_loss: 0.6458 - val_acc: 0.8397\n",
      "Epoch 54/100\n",
      " - 0s - loss: 0.3496 - acc: 0.9463 - val_loss: 0.6481 - val_acc: 0.8375\n",
      "Epoch 55/100\n",
      " - 0s - loss: 0.3417 - acc: 0.9511 - val_loss: 0.6515 - val_acc: 0.8360\n",
      "Epoch 56/100\n",
      " - 0s - loss: 0.3389 - acc: 0.9497 - val_loss: 0.6608 - val_acc: 0.8285\n",
      "Epoch 57/100\n",
      " - 0s - loss: 0.3380 - acc: 0.9518 - val_loss: 0.6505 - val_acc: 0.8391\n",
      "Epoch 58/100\n",
      " - 0s - loss: 0.3336 - acc: 0.9515 - val_loss: 0.6526 - val_acc: 0.8351\n",
      "Epoch 59/100\n",
      " - 0s - loss: 0.3283 - acc: 0.9546 - val_loss: 0.6371 - val_acc: 0.8366\n",
      "Epoch 60/100\n",
      " - 0s - loss: 0.3246 - acc: 0.9541 - val_loss: 0.6422 - val_acc: 0.8404\n",
      "Epoch 61/100\n",
      " - 0s - loss: 0.3266 - acc: 0.9529 - val_loss: 0.6507 - val_acc: 0.8373\n",
      "Epoch 62/100\n",
      " - 0s - loss: 0.3244 - acc: 0.9553 - val_loss: 0.6453 - val_acc: 0.8406\n",
      "Epoch 63/100\n",
      " - 0s - loss: 0.3198 - acc: 0.9559 - val_loss: 0.6485 - val_acc: 0.8399\n",
      "Epoch 64/100\n",
      " - 0s - loss: 0.3145 - acc: 0.9580 - val_loss: 0.6455 - val_acc: 0.8393\n",
      "Epoch 65/100\n",
      " - 0s - loss: 0.3090 - acc: 0.9600 - val_loss: 0.6425 - val_acc: 0.8444\n",
      "Epoch 66/100\n",
      " - 0s - loss: 0.3093 - acc: 0.9586 - val_loss: 0.6462 - val_acc: 0.8391\n",
      "Epoch 67/100\n",
      " - 0s - loss: 0.3067 - acc: 0.9599 - val_loss: 0.6437 - val_acc: 0.8410\n",
      "Epoch 68/100\n",
      " - 0s - loss: 0.3020 - acc: 0.9614 - val_loss: 0.6413 - val_acc: 0.8437\n",
      "Epoch 69/100\n",
      " - 0s - loss: 0.3013 - acc: 0.9599 - val_loss: 0.6499 - val_acc: 0.8382\n",
      "Epoch 70/100\n",
      " - 0s - loss: 0.2969 - acc: 0.9636 - val_loss: 0.6458 - val_acc: 0.8369\n",
      "Epoch 71/100\n",
      " - 0s - loss: 0.2974 - acc: 0.9606 - val_loss: 0.6423 - val_acc: 0.8439\n",
      "Epoch 72/100\n",
      " - 0s - loss: 0.2902 - acc: 0.9637 - val_loss: 0.6401 - val_acc: 0.8422\n",
      "Epoch 73/100\n",
      " - 0s - loss: 0.2886 - acc: 0.9644 - val_loss: 0.6431 - val_acc: 0.8393\n",
      "Epoch 74/100\n",
      " - 0s - loss: 0.2871 - acc: 0.9649 - val_loss: 0.6476 - val_acc: 0.8404\n",
      "Epoch 75/100\n",
      " - 0s - loss: 0.2837 - acc: 0.9668 - val_loss: 0.6420 - val_acc: 0.8419\n",
      "Epoch 76/100\n",
      " - 0s - loss: 0.2839 - acc: 0.9666 - val_loss: 0.6517 - val_acc: 0.8397\n",
      "Epoch 77/100\n",
      " - 0s - loss: 0.2809 - acc: 0.9669 - val_loss: 0.6454 - val_acc: 0.8386\n",
      "Epoch 78/100\n",
      " - 0s - loss: 0.2779 - acc: 0.9691 - val_loss: 0.6516 - val_acc: 0.8384\n",
      "Epoch 79/100\n",
      " - 0s - loss: 0.2768 - acc: 0.9695 - val_loss: 0.6584 - val_acc: 0.8349\n",
      "Epoch 80/100\n",
      " - 0s - loss: 0.2760 - acc: 0.9674 - val_loss: 0.6566 - val_acc: 0.8353\n",
      "Epoch 81/100\n",
      " - 0s - loss: 0.2736 - acc: 0.9689 - val_loss: 0.6506 - val_acc: 0.8408\n",
      "Epoch 82/100\n",
      " - 0s - loss: 0.2734 - acc: 0.9699 - val_loss: 0.6427 - val_acc: 0.8413\n",
      "Epoch 83/100\n",
      " - 0s - loss: 0.2706 - acc: 0.9697 - val_loss: 0.6579 - val_acc: 0.8366\n",
      "Epoch 84/100\n",
      " - 0s - loss: 0.2689 - acc: 0.9707 - val_loss: 0.6453 - val_acc: 0.8435\n",
      "Epoch 85/100\n",
      " - 0s - loss: 0.2690 - acc: 0.9710 - val_loss: 0.6526 - val_acc: 0.8415\n",
      "Epoch 86/100\n",
      " - 0s - loss: 0.2660 - acc: 0.9705 - val_loss: 0.6499 - val_acc: 0.8388\n",
      "Epoch 87/100\n",
      " - 0s - loss: 0.2615 - acc: 0.9715 - val_loss: 0.6528 - val_acc: 0.8377\n",
      "Epoch 88/100\n",
      " - 0s - loss: 0.2599 - acc: 0.9740 - val_loss: 0.6587 - val_acc: 0.8344\n",
      "Epoch 89/100\n",
      " - 0s - loss: 0.2591 - acc: 0.9737 - val_loss: 0.6476 - val_acc: 0.8395\n",
      "Epoch 90/100\n",
      " - 0s - loss: 0.2566 - acc: 0.9750 - val_loss: 0.6419 - val_acc: 0.8402\n",
      "Epoch 91/100\n",
      " - 0s - loss: 0.2556 - acc: 0.9728 - val_loss: 0.6485 - val_acc: 0.8364\n",
      "Epoch 92/100\n",
      " - 0s - loss: 0.2530 - acc: 0.9758 - val_loss: 0.6416 - val_acc: 0.8439\n",
      "Epoch 93/100\n",
      " - 0s - loss: 0.2506 - acc: 0.9775 - val_loss: 0.6507 - val_acc: 0.8397\n",
      "Epoch 94/100\n",
      " - 0s - loss: 0.2517 - acc: 0.9762 - val_loss: 0.6489 - val_acc: 0.8419\n",
      "Epoch 95/100\n",
      " - 0s - loss: 0.2498 - acc: 0.9758 - val_loss: 0.6446 - val_acc: 0.8446\n",
      "Epoch 96/100\n",
      " - 0s - loss: 0.2470 - acc: 0.9772 - val_loss: 0.6457 - val_acc: 0.8406\n"
     ]
    },
    {
     "name": "stdout",
     "output_type": "stream",
     "text": [
      "Epoch 97/100\n",
      " - 0s - loss: 0.2470 - acc: 0.9755 - val_loss: 0.6479 - val_acc: 0.8406\n",
      "Epoch 98/100\n",
      " - 0s - loss: 0.2464 - acc: 0.9769 - val_loss: 0.6529 - val_acc: 0.8375\n",
      "Epoch 99/100\n",
      " - 0s - loss: 0.2448 - acc: 0.9767 - val_loss: 0.6495 - val_acc: 0.8419\n",
      "Epoch 100/100\n",
      " - 0s - loss: 0.2443 - acc: 0.9760 - val_loss: 0.6496 - val_acc: 0.8413\n"
     ]
    }
   ],
   "source": [
    "results = model.fit(x_train, y_train, epochs=100, \n",
    "                    batch_size=256, validation_data=(x_test, y_test), verbose=2)"
   ]
  },
  {
   "cell_type": "markdown",
   "metadata": {},
   "source": [
    "### Architecture of the DNN"
   ]
  },
  {
   "cell_type": "code",
   "execution_count": 15,
   "metadata": {},
   "outputs": [
    {
     "name": "stdout",
     "output_type": "stream",
     "text": [
      "_________________________________________________________________\n",
      "Layer (type)                 Output Shape              Param #   \n",
      "=================================================================\n",
      "dense_1 (Dense)              (None, 1024)              57344     \n",
      "_________________________________________________________________\n",
      "batch_normalization_1 (Batch (None, 1024)              4096      \n",
      "_________________________________________________________________\n",
      "dense_2 (Dense)              (None, 256)               262400    \n",
      "_________________________________________________________________\n",
      "batch_normalization_2 (Batch (None, 256)               1024      \n",
      "_________________________________________________________________\n",
      "dense_3 (Dense)              (None, 7)                 1799      \n",
      "=================================================================\n",
      "Total params: 326,663\n",
      "Trainable params: 324,103\n",
      "Non-trainable params: 2,560\n",
      "_________________________________________________________________\n"
     ]
    }
   ],
   "source": [
    "model.summary()"
   ]
  },
  {
   "cell_type": "markdown",
   "metadata": {},
   "source": [
    "### Visualize the error and the accuracy over epochs"
   ]
  },
  {
   "cell_type": "code",
   "execution_count": 18,
   "metadata": {},
   "outputs": [
    {
     "name": "stdout",
     "output_type": "stream",
     "text": [
      "Log data:  dict_keys(['val_loss', 'val_acc', 'loss', 'acc'])\n"
     ]
    },
    {
     "data": {
      "text/plain": [
       "<matplotlib.legend.Legend at 0x1f92e841b38>"
      ]
     },
     "execution_count": 18,
     "metadata": {},
     "output_type": "execute_result"
    },
    {
     "data": {
      "image/png": "[encoded data removed]",
      "text/plain": [
       "<Figure size 432x288 with 1 Axes>"
      ]
     },
     "metadata": {},
     "output_type": "display_data"
    },
    {
     "data": {
      "image/png": "[encoded data removed]",
      "text/plain": [
       "<Figure size 432x288 with 1 Axes>"
      ]
     },
     "metadata": {},
     "output_type": "display_data"
    }
   ],
   "source": [
    "print(\"Log data: \", results.history.keys())\n",
    "\n",
    "plt.figure(1)\n",
    "plt.plot(results.history['loss'])\n",
    "plt.plot(results.history['val_loss'])\n",
    "plt.legend(['train loss', 'test loss'])\n",
    "\n",
    "plt.figure(2)\n",
    "plt.plot(results.history['acc'])\n",
    "plt.plot(results.history['val_acc'])\n",
    "plt.legend(['train acc', ' acc'])"
   ]
  },
  {
   "cell_type": "markdown",
   "metadata": {
    "collapsed": true
   },
   "source": [
    "#### Note: We can say that the model is quite overfitting. Maybe it is because our data set is quite small."
   ]
  },
  {
   "cell_type": "markdown",
   "metadata": {},
   "source": [
    "## How to tune hyperparameters <br>eg. the Learning Rate "
   ]
  },
  {
   "cell_type": "markdown",
   "metadata": {},
   "source": [
    "Note: The learning rate is one of the most important hyperparameters."
   ]
  },
  {
   "cell_type": "code",
   "execution_count": 19,
   "metadata": {},
   "outputs": [],
   "source": [
    "import keras.backend as K\n",
    "K.clear_session()"
   ]
  },
  {
   "cell_type": "code",
   "execution_count": 20,
   "metadata": {},
   "outputs": [],
   "source": [
    "dflist = []\n",
    "\n",
    "learning_rates = [0.001, 0.01, 0.05, 0.1]\n",
    "\n",
    "for lr in learning_rates:\n",
    "\n",
    "    K.clear_session()\n",
    "\n",
    "    \n",
    "    model = Sequential()\n",
    "    model.add(Dense(1024, input_shape=(features_num,),kernel_regularizer='l2', \n",
    "                    kernel_initializer='he_normal', activation='relu'))\n",
    "    model.add(BatchNormalization())\n",
    "    model.add(Dense(256,kernel_regularizer='l2', kernel_initializer='he_normal', \n",
    "                    activation='relu'))\n",
    "    model.add(BatchNormalization())\n",
    "    model.add(Dense(7, activation='softmax'))\n",
    "    model.compile(Adam(lr=lr,epsilon= 1e-08, decay=0.1),\n",
    "                  loss='categorical_crossentropy', metrics=['accuracy'])\n",
    "    \n",
    "    \n",
    "    h = model.fit(x_train, y_train, epochs=50, \n",
    "                  batch_size=256, \n",
    "                  validation_data=(x_test, y_test), verbose=0)\n",
    "    \n",
    "    \n",
    "    dflist.append(pd.DataFrame(h.history, index=h.epoch))"
   ]
  },
  {
   "cell_type": "code",
   "execution_count": 21,
   "metadata": {},
   "outputs": [],
   "source": [
    "historydf = pd.concat(dflist, axis=1)"
   ]
  },
  {
   "cell_type": "code",
   "execution_count": 22,
   "metadata": {},
   "outputs": [],
   "source": [
    "metrics_reported = dflist[0].columns\n",
    "idx = pd.MultiIndex.from_product([learning_rates, metrics_reported],\n",
    "                                 names=['learning_rate', 'metric'])\n",
    "\n",
    "historydf.columns = idx"
   ]
  },
  {
   "cell_type": "code",
   "execution_count": 24,
   "metadata": {},
   "outputs": [
    {
     "data": {
      "image/png": "[encoded data removed]",
      "text/plain": [
       "<Figure size 720x720 with 2 Axes>"
      ]
     },
     "metadata": {},
     "output_type": "display_data"
    }
   ],
   "source": [
    "plt.figure(figsize=(10,10))\n",
    "ax = plt.subplot(211)\n",
    "historydf.xs('loss', axis=1, level='metric').plot(ylim=(0,3), ax=ax)\n",
    "plt.title(\"Loss\")\n",
    "\n",
    "ax = plt.subplot(212)\n",
    "historydf.xs('acc', axis=1, level='metric').plot(ylim=(0.4,1), ax=ax)\n",
    "plt.title(\"Accuracy\")\n",
    "plt.xlabel(\"Epochs\")\n",
    "\n",
    "plt.tight_layout()"
   ]
  },
  {
   "cell_type": "code",
   "execution_count": null,
   "metadata": {},
   "outputs": [],
   "source": []
  }
 ],
 "metadata": {
  "kernelspec": {
   "display_name": "Python 3",
   "language": "python",
   "name": "python3"
  },
  "language_info": {
   "codemirror_mode": {
    "name": "ipython",
    "version": 3
   },
   "file_extension": ".py",
   "mimetype": "text/x-python",
   "name": "python",
   "nbconvert_exporter": "python",
   "pygments_lexer": "ipython3",
   "version": "3.6.5"
  }
 },
 "nbformat": 4,
 "nbformat_minor": 2
}
